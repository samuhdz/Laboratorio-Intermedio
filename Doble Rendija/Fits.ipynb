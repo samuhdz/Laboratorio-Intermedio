{
 "cells": [
  {
   "cell_type": "code",
   "execution_count": null,
   "id": "16a0e575",
   "metadata": {},
   "outputs": [],
   "source": [
    "import numpy as np\n",
    "import matplotlib.pyplot as plt"
   ]
  },
  {
   "cell_type": "markdown",
   "id": "7cbd956f",
   "metadata": {},
   "source": [
    "**Ajuste para rendija sencilla**\n",
    "\n",
    "Acá vamos a usar el siguiente ajuste\n",
    "\n",
    "$$ I=A \\left(\\frac{\\sin(B x'+C)}{Bx'+C}\\right)^2$$\n",
    "Donde $A=I_0$, $B=\\frac{\\pi a}{\\lambda L}$, $x'=x-x_0$ y $C$ es un desfase. Además, vamos a pasar $x$ a metros para mejor visibilidad. Este ajuste es válido en ángulos pequeños donde $\\sin \\theta \\approx \\tan \\theta \\approx \\frac{x}{L}$."
   ]
  },
  {
   "cell_type": "code",
   "execution_count": null,
   "id": "60505508",
   "metadata": {},
   "outputs": [],
   "source": [
    "import numpy as np\n",
    "import matplotlib.pyplot as plt\n",
    "from scipy.optimize import curve_fit\n",
    "\n",
    "# --- Simulación de ejemplo (REEMPLAZA con tus datos) ---\n",
    "N = 100\n",
    "I = np.random.normal(0.5, 0.05, N)\n",
    "x = x_array * 1e-6  # convertir todo a metros directamente\n",
    "\n",
    "\n",
    "\n",
    "x0_indice = np.argmax(I)\n",
    "x0 = x[x0_indice]\n",
    "x_prima = x - x0\n",
    "\n",
    "# --- Modelo con C incluido ---\n",
    "def sinc_squared(x, A, B, C):\n",
    "    argument = B * x + C\n",
    "    with np.errstate(divide='ignore', invalid='ignore'):\n",
    "        result = np.sin(argument) / argument\n",
    "        result[np.isnan(result)] = 1  # sinc(0) = 1\n",
    "    return A * result**2\n",
    "\n",
    "# --- Ajuste ---\n",
    "A0 = np.max(I)\n",
    "B0 = 1e4\n",
    "C0 = 0.1\n",
    "params, cov = curve_fit(sinc_squared, x_prima, I, p0=[A0, B0, C0])\n",
    "\n",
    "# Valores ajustados y errores\n",
    "A_fit, B_fit, C_fit = params\n",
    "errors = np.sqrt(np.diag(cov))  # incertidumbres\n",
    "\n",
    "# --- Gráfica ---\n",
    "x_fit = np.linspace(x_prima.min(), x_prima.max(), 1000)\n",
    "I_fit = sinc_squared(x_fit, A_fit, B_fit, C_fit)\n",
    "\n",
    "plt.figure(figsize=(8,5))\n",
    "plt.plot(x_prima * 1e6, I, 'o', label='Datos')\n",
    "plt.plot(x_fit * 1e6, I_fit, '-', label='Ajuste')\n",
    "plt.xlabel(\"Posición x' (micras)\")\n",
    "plt.ylabel(\"Intensidad / Voltaje\")\n",
    "plt.title(\"Ajuste con sinc² y parámetro C\")\n",
    "plt.legend()\n",
    "plt.grid(True)\n",
    "plt.tight_layout()\n",
    "plt.show()\n",
    "\n",
    "# --- Resultados finales ---\n",
    "print(\"🧪 Parámetros del ajuste con incertidumbre:\")\n",
    "print(f\"A = {A_fit:.5f} ± {errors[0]:.5f}\")\n",
    "print(f\"B = {B_fit:.5e} ± {errors[1]:.2e}  m⁻¹\")\n",
    "print(f\"C = {C_fit:.5f} ± {errors[2]:.5f}  rad\")\n",
    "print(f\"x₀ (centro del patrón) = {x0*1e6:.2f} micras\")\n"
   ]
  }
 ],
 "metadata": {
  "kernelspec": {
   "display_name": "Python 3",
   "language": "python",
   "name": "python3"
  },
  "language_info": {
   "codemirror_mode": {
    "name": "ipython",
    "version": 3
   },
   "file_extension": ".py",
   "mimetype": "text/x-python",
   "name": "python",
   "nbconvert_exporter": "python",
   "pygments_lexer": "ipython3",
   "version": "3.11.9"
  }
 },
 "nbformat": 4,
 "nbformat_minor": 5
}
