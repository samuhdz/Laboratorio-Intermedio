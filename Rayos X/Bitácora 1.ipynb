{
 "cells": [
  {
   "cell_type": "code",
   "execution_count": 2,
   "metadata": {},
   "outputs": [],
   "source": [
    "import numpy as np\n",
    "import scipy as sci\n",
    "from scipy.optimize import curve_fit\n",
    "from scipy.special import voigt_profile\n",
    "import matplotlib.pyplot as plt \n",
    "import pandas as pd"
   ]
  },
  {
   "cell_type": "markdown",
   "metadata": {},
   "source": [
    "**Actividad 1**\n",
    "\n",
    "En esta actividad la idea principal es medir el espectro característico de rayos X del cobre (Cu). Para esto, se utilizó el montaje  que se ve en la figura. Tomamos datos como se indicó en la guía. Acá primero vamos a definir las funciones de ajuste que usaremos en el análisis.\n"
   ]
  },
  {
   "cell_type": "code",
   "execution_count": 3,
   "metadata": {},
   "outputs": [],
   "source": [
    "def Lorentz(x, A, x0, gamma):\n",
    "    return (A / np.pi) * (gamma / ((x - x0)**2 + gamma**2))\n",
    "\n",
    "\n",
    "def Linear(x, a, b):\n",
    "    return a*x + b\n"
   ]
  }
 ],
 "metadata": {
  "kernelspec": {
   "display_name": "Python 3",
   "language": "python",
   "name": "python3"
  },
  "language_info": {
   "codemirror_mode": {
    "name": "ipython",
    "version": 3
   },
   "file_extension": ".py",
   "mimetype": "text/x-python",
   "name": "python",
   "nbconvert_exporter": "python",
   "pygments_lexer": "ipython3",
   "version": "3.11.9"
  }
 },
 "nbformat": 4,
 "nbformat_minor": 2
}
